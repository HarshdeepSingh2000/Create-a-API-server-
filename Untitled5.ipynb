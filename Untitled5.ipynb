{
 "cells": [
  {
   "cell_type": "code",
   "execution_count": null,
   "id": "90ce37e3",
   "metadata": {},
   "outputs": [
    {
     "name": "stdout",
     "output_type": "stream",
     "text": [
      " * Serving Flask app '__main__'\n",
      " * Debug mode: off\n"
     ]
    },
    {
     "name": "stderr",
     "output_type": "stream",
     "text": [
      "WARNING: This is a development server. Do not use it in a production deployment. Use a production WSGI server instead.\n",
      " * Running on http://127.0.0.1:5000\n",
      "Press CTRL+C to quit\n"
     ]
    }
   ],
   "source": [
    "from flask import Flask, jsonify\n",
    "\n",
    "# Define the list of branches\n",
    "branches = [\n",
    "    {\n",
    "        \"branch\": \"Branch 1\",\n",
    "        \"bank\": {\n",
    "            \"name\": \"Bank A\"\n",
    "        }\n",
    "    },\n",
    "    {\n",
    "        \"branch\": \"Branch 2\",\n",
    "        \"bank\": {\n",
    "            \"name\": \"Bank B\"\n",
    "        }\n",
    "    },\n",
    "    {\n",
    "        \"branch\": \"Branch 3\",\n",
    "        \"bank\": {\n",
    "            \"name\": \"Bank C\"\n",
    "        }\n",
    "    },\n",
    "]\n",
    "\n",
    "# Create the Flask app\n",
    "app = Flask(__name__)\n",
    "\n",
    "# Create the endpoint for retrieving the list of branches\n",
    "@app.route(\"/api/v1/branches\", methods=[\"GET\"])\n",
    "def get_branches():\n",
    "    return jsonify(branches)\n",
    "\n",
    "# Create the endpoint for retrieving the details of a specific branch\n",
    "@app.route(\"/api/v1/branches/<string:branch>\", methods=[\"GET\"])\n",
    "def get_branch(branch):\n",
    "    branch_data = [b for b in branches if b[\"branch\"] == branch]\n",
    "    if len(branch_data) > 0:\n",
    "        return jsonify(branch_data[0])\n",
    "    else:\n",
    "        return jsonify({\"error\": \"Branch not found\"}), 404\n",
    "\n",
    "# Run the app\n",
    "if __name__ == \"__main__\":\n",
    "    app.run()\n"
   ]
  },
  {
   "cell_type": "code",
   "execution_count": null,
   "id": "708cd750",
   "metadata": {},
   "outputs": [],
   "source": []
  }
 ],
 "metadata": {
  "kernelspec": {
   "display_name": "Python 3 (ipykernel)",
   "language": "python",
   "name": "python3"
  }
 },
 "nbformat": 4,
 "nbformat_minor": 5
}
